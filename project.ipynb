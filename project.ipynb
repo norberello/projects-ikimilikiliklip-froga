{
 "cells": [
  {
   "cell_type": "markdown",
   "metadata": {},
   "source": [
    "# Project Title (<= 41 Characters) (Title Case)"
   ]
  },
  {
   "cell_type": "code",
   "execution_count": null,
   "metadata": {},
   "outputs": [],
   "source": [
    "# This is a code cell without any tag. You can put convenience code here,\n",
    "# but it won't be included in any way in the final project.\n",
    "# For example, to be able to run tests locally in the notebook\n",
    "# you need to install the following:\n",
    "# install.packages(\"devtools\")\n",
    "# install.packages(testthat\")\n",
    "# devtools::install_github('datacamp/IRkernel.testthat')\n",
    "\n",
    "# This allows .... to be used as placeholder value in the sample code cells\n",
    ".... <- NULL "
   ]
  },
  {
   "cell_type": "markdown",
   "metadata": {},
   "source": [
    "Welcome to the official authoring notebook for your DataCamp project! This notebook, named `project.ipynb`, contains a variety of tagged cells. Tags are in the top left corner of cells. Here's an example of a tag:\n",
    "\n",
    "![tagged_cell_img](https://i.imgur.com/H2TB22Y.png)\n",
    "\n",
    "These tagged cells are processed by software written by our talented DataCamp engineers and a [DataCamp project](https://www.datacamp.com/projects) is the product.\n",
    "\n",
    "<img src=\"https://i.imgur.com/7mqMP5E.jpg\" alt=\"DataCamp project interface\" width=\"600px\"/>\n",
    "\n",
    "Before you start working on this notebook, please read the `project.ipynb` notebook format in our [documentation](https://instructor-support.datacamp.com/projects/datacamp-project-jupyter-notebook-format). Each type of tagged cell is described there.\n",
    "\n",
    "When you first open this notebook, you will find a template for each of the tagged cells for all tasks in your project. When you're creating your project, please abide by the content rules there to ensure students have a consistent and smooth learning experience. Please also consult our [style guidelines](https://instructor-support.datacamp.com/projects/style-guidelines) as needed.\n",
    "\n",
    "If you can't find an answer in the documentation or in this template, please [create an Issue](https://help.github.com/articles/creating-an-issue/) in your project's GitHub repository and your DataCamp contact will respond as soon as possible.\n",
    "\n",
    "Happy creating!\n",
    "\n",
    "*Again, this cell won't be included in the live version of the project because it has no tag.*"
   ]
  },
  {
   "cell_type": "markdown",
   "metadata": {
    "tags": [
     "type:NotebookTask"
    ]
   },
   "source": [
    "## 1. Title of the first task  (<= 55 chars) (sentence case)"
   ]
  },
  {
   "cell_type": "markdown",
   "metadata": {
    "tags": [
     "@context"
    ]
   },
   "source": [
    "An exciting intro to the analysis. In the `@context` cells, we want to emphasize story, the dataset, and the real-world application of the actions students are doing in the project instead of teaching and explaining technical data science concepts. DataCamp courses are for learning new things, DataCamp projects are for applying knowledge and performing a real-world analysis. This cell will show up in the student's notebook. The first `@context` cell can have at most have 1200 characters and/or 4 paragraphs.\n",
    "\n",
    "The most common error instructors make in **`@context` cells** is referring to the student or the project. We want project notebooks to appear as a blog post or a data analysis. Bad: *\"In this project, you will...\"* Good: *\"In this notebook, we will...\"* Save the instruction for the `@instructions`, `@hint`, and `@tests` cells, where you can refer the student and the project.\n",
    "\n",
    "Images are welcome additions to every `@context` cell, but especially this first one. Make sure the images can be used commercially ([Unsplash](https://unsplash.com/) and Google [Advanced Image Search](https://support.google.com/websearch/answer/29508?hl=en) are great sources for free-to-use images) then store them in the `img` folder in your GitHub repository. Display them using [Markdown](https://github.com/adam-p/markdown-here/wiki/Markdown-Cheatsheet#images) or HTML.\n",
    "\n",
    "End the `@context` cells by leading into the results of this task's `@solution` cell's output (plots/models/etc.)."
   ]
  },
  {
   "cell_type": "markdown",
   "metadata": {},
   "source": [
    "*Please keep the [soft launch](https://en.wikipedia.org/wiki/Soft_launch) warning and the \"reset the project by clicking the circular arrow\" note in the next `@instructions` cell. The cell you are currently reading has no tag so it won't be included in the project.*"
   ]
  },
  {
   "cell_type": "markdown",
   "metadata": {
    "tags": [
     "@instructions"
    ]
   },
   "source": [
    "**One** sentence that summarizes the code the student will write in this task. *Note: this project is [soft launched](https://en.wikipedia.org/wiki/Soft_launch), which means you may experience some bugs. Please click \"Report an Issue\" in the top-right corner of the screen to provide feedback.*\n",
    "\n",
    "- The specific task instructions go in a bullet point list. One sentence ideally (max 2) per bullet.\n",
    "- Try to map code cell comments to instruction bullets.\n",
    "- Instructions should relate to the redacted sections of sample code.\n",
    "- At most 4 bullets.\n",
    "\n",
    "<hr>\n",
    "\n",
    "## Good to know\n",
    "\n",
    "You can reference the student (\"you\") and the project in the `@instructions` cells since they appear in the sidebar and not the notebook.\n",
    "\n",
    "The `@instructions` for **task 1** should include a \"Good to know\" section where you direct the student to resources that could be useful _throughout_ the project, as well as the recommended prerequisites. You should also link to resources that are helpful for task 1 specifically. These resources could be external documentation, DataCamp courses and exercises, cheat sheets, Stack Overflow answers, etc. Recommended format for task 1 below.\n",
    "\n",
    "This project lets you apply the skills from [Introduction to the Tidyverse](https://www.datacamp.com/courses/introduction-to-the-tidyverse), including filtering, grouping and summarizing data, and visualizing with ggplot2. We recommend that you take that course before starting this project.\n",
    "\n",
    "Helpful links:\n",
    "- tidyverse [cheat sheet](https://s3.amazonaws.com/assets.datacamp.com/blog_assets/Tidyverse+Cheat+Sheet.pdf)\n",
    "- dplyr's `mutate()` function [documentation](https://www.rdocumentation.org/packages/dplyr/versions/0.5.0/topics/mutate)\n",
    "- Mutate [exercises](https://campus.datacamp.com/courses/introduction-to-the-tidyverse/data-wrangling-1?ex=10) in the Introduction to the Tidyverse course\n",
    "\n",
    "If you experience odd behavior you can reset the project by clicking the circular arrow in the bottom-right corner of the screen. Resetting the project will discard all code you have written so be sure to save it offline first."
   ]
  },
  {
   "cell_type": "markdown",
   "metadata": {
    "tags": [
     "@hint"
    ]
   },
   "source": [
    "Hints are meant for students who are stuck. Since students can't view solutions in projects, clicking the hint button is their last resort. We often recommend including code scaffolding (example below).\n",
    "\n",
    "You can read `\"path_to/my_data.csv\"` into a data frame named `my_data` like this after loading the tidyverse package:\n",
    "\n",
    "```r\n",
    "my_data <- read_csv(\"path_to/my_data.csv\")\n",
    "```\n",
    "\n",
    "You can reference the student (\"you\") and the project in the `@hint` cells since they appear in the sidebar and not the notebook."
   ]
  },
  {
   "cell_type": "code",
   "execution_count": null,
   "metadata": {
    "tags": [
     "@sample_code"
    ]
   },
   "outputs": [],
   "source": [
    "# This is the sample code the student will see\n",
    "\n",
    "# Maximum of 10 lines of code total\n",
    "# The student should have to complete at most 5 lines of code\n",
    "# Try to keep lines of code <= 75 characters to minimize horizontal scrolling\n",
    "\n",
    "# Each @instructions bullet should correspond to a comment in the @sample_code\n",
    "# Instructions should relate to the redacted sections of sample code\n",
    "\n",
    "# Indicate missing parts of code (function calls, arguments, etc.) with ...\n",
    "library(tidyverse)\n",
    "iris <- ....\n",
    "\n",
    "# Or when a line or more is required, like this:\n",
    "# .... YOUR CODE FOR TASK 1 ...."
   ]
  },
  {
   "cell_type": "code",
   "execution_count": null,
   "metadata": {
    "tags": [
     "@solution"
    ]
   },
   "outputs": [],
   "source": [
    "# This is the solution code the student WILL NOT see\n",
    "# The @solution needs to EXACTLY mirror the @sample_code but with the blanks filled in\n",
    "# Should take at most 10 seconds to execute on an average laptop\n",
    "\n",
    "# Maximum of 10 lines of code total\n",
    "# The student should have to complete at most 5 lines of code\n",
    "# Try to keep lines of code <= 75 characters to minimize horizontal scrolling\n",
    "\n",
    "# Each @instructions bullet should correspond to a comment in the @sample_code\n",
    "# Instructions should relate to the redacted sections of sample code\n",
    "\n",
    "# Indicate missing parts of code (function calls, arguments, etc.) with ....\n",
    "library(tidyverse)\n",
    "iris <- read_csv(\"datasets/iris.csv\")\n",
    "\n",
    "# Or when a line or more is required, like this:\n",
    "head(iris)"
   ]
  },
  {
   "cell_type": "code",
   "execution_count": null,
   "metadata": {
    "tags": [
     "@tests"
    ]
   },
   "outputs": [],
   "source": [
    "# These packages need to be loaded in the first @tests cell\n",
    "library(testthat) \n",
    "library(IRkernel.testthat)\n",
    "\n",
    "# One or more tests of the student's code\n",
    "# The @solution should pass the tests\n",
    "# The purpose of the tests is to try to catch common errors and\n",
    "# to give the student a hint on how to resolve these errors\n",
    "\n",
    "# There are two tests in this cell. The first one tests that the\n",
    "# correct package was loaded. The second one tests that the\n",
    "# correct data were read in.\n",
    "\n",
    "soln_iris <- read_csv(\"datasets/iris.csv\")\n",
    "\n",
    "run_tests({\n",
    "    test_that(\"the correct package is loaded\", {\n",
    "        expect_true(\"tidyverse\" %in% .packages(), \n",
    "                    info = \"Did you load the tidyverse package?\")\n",
    "    })\n",
    "    \n",
    "    test_that(\"the dataset is loaded correctly\", {\n",
    "        expect_identical(colnames(iris), colnames(soln_iris), \n",
    "                         info = \"The student will see this message if their code doesn't pass the test. This message must mention the specific piece of code that was tested, so the student knows why their code was marked incorrect. Use 'you' since the tests appear in the sidebar and not the notebook. Also, isn't horizontal scrolling in Jupyter Notebooks annoying? Let's try to limit this for students by keeping lines <= 75 characters. :)\")    \n",
    "        expect_equal(iris, soln_iris, \n",
    "                     info = \"iris contains the wrong values. Did you import the CSV file correctly?\")\n",
    "    })\n",
    "})"
   ]
  },
  {
   "cell_type": "markdown",
   "metadata": {
    "tags": [
     "type:NotebookTask"
    ]
   },
   "source": [
    "## 2. Title of the second task (<= 55 chars)  (sentence case)"
   ]
  },
  {
   "cell_type": "markdown",
   "metadata": {
    "tags": [
     "@context"
    ]
   },
   "source": [
    "More context / background / story / etc. **If appropriate, begin the `@context` cells for tasks 2 onwards by elaborating on the results of the previous task's output.** This will show up in the student's notebook. It should at most have 800 characters and/or 3 paragraphs.\n",
    "\n",
    "The most common error instructors make in **`@context` cells** is referring to the student or the project. We want project notebooks to appear as a blog post or a data analysis. Bad: *\"In this task, you will...\"* Good: *\"Next, we will...\"* Save the instruction for the `@instructions`, `@hint`, and `@tests` cells, where you can refer the student and the project.\n",
    "\n",
    "End the `@context` cells by leading into the results of this task's `@solution` cell's output (plots/models/etc.)."
   ]
  },
  {
   "cell_type": "markdown",
   "metadata": {
    "tags": [
     "@instructions"
    ]
   },
   "source": [
    "**One** sentence that summarizes the code the student will write in this task.\n",
    "- The specific task instructions go in a bullet point list. One sentence ideally (max 2) per bullet.\n",
    "- Try to map code cell comments to instruction bullets.\n",
    "- Instructions should relate to the redacted sections of sample code.\n",
    "- At most 4 bullets.\n",
    "\n",
    "<hr>\n",
    "\n",
    "You can reference the student (\"you\") and the project in the `@instructions` cells since they appear in the sidebar and not the notebook.\n",
    "\n",
    "Provide more info (if necessary) and include links to external resources under the horizontal ruler. The instructions should at most have 600 characters. Example format for links below.\n",
    "\n",
    "Helpful links:\n",
    "- dplyr's `mutate()` function [documentation](https://www.rdocumentation.org/packages/dplyr/versions/0.5.0/topics/mutate)\n",
    "- Mutate [exercises](https://campus.datacamp.com/courses/introduction-to-the-tidyverse/data-wrangling-1?ex=10) in the Introduction to the Tidyverse course"
   ]
  },
  {
   "cell_type": "markdown",
   "metadata": {
    "tags": [
     "@hint"
    ]
   },
   "source": [
    "Hints are meant for students who are stuck. Since students can't view solutions in projects, clicking the hint button is their last resort. We often recommend including code scaffolding (example below).\n",
    "\n",
    "You can read `\"path_to/my_data.csv\"` into a data frame named `my_data` like this after loading the tidyverse package:\n",
    "\n",
    "```r\n",
    "my_data <- read_csv(\"path_to/my_data.csv\")\n",
    "```\n",
    "\n",
    "You can reference the student (\"you\") and the project in the `@hint` cells since they appear in the sidebar and not the notebook."
   ]
  },
  {
   "cell_type": "code",
   "execution_count": null,
   "metadata": {
    "tags": [
     "@sample_code"
    ]
   },
   "outputs": [],
   "source": [
    "# This is the sample code the student will see\n",
    "\n",
    "# Maximum of 10 lines of code total\n",
    "# The student should have to complete at most 5 lines of code\n",
    "# Try to keep lines of code <= 75 characters to minimize horizontal scrolling\n",
    "\n",
    "# Each @instructions bullet should correspond to a comment in the @sample_code\n",
    "# Instructions should relate to the redacted sections of sample code\n",
    "\n",
    "# Indicate missing parts of code (function calls, arguments, etc.)\n",
    "like_this <- ....\n",
    "\n",
    "# Or when a line or more is required, like this:\n",
    "# .... YOUR CODE FOR TASK 2 ...."
   ]
  },
  {
   "cell_type": "code",
   "execution_count": null,
   "metadata": {
    "tags": [
     "@solution"
    ]
   },
   "outputs": [],
   "source": [
    "# This is the solution code the student WILL NOT see\n",
    "# The @solution needs to EXACTLY mirror the @sample_code but with the blanks filled in\n",
    "# Should take at most 10 seconds to execute on an average laptop\n",
    "\n",
    "# Maximum of 10 lines of code total\n",
    "# The student should have to complete at most 5 lines of code\n",
    "# Try to keep lines of code <= 75 characters to minimize horizontal scrolling\n",
    "\n",
    "# Each @instructions bullet should correspond to a comment in the @sample_code\n",
    "# Instructions should relate to the redacted sections of sample code\n",
    "\n",
    "# Indicate missing parts of code (function calls, arguments, etc.)\n",
    "like_this <- \"missing part filled in\"\n",
    "\n",
    "# Or when a line or more is required, like this:\n",
    "str_length(like_this)"
   ]
  },
  {
   "cell_type": "code",
   "execution_count": null,
   "metadata": {
    "tags": [
     "@tests"
    ]
   },
   "outputs": [],
   "source": [
    "# One or more tests of the student's code\n",
    "# The @solution should pass the tests\n",
    "# The purpose of the tests is to try to catch common errors and\n",
    "# to give the student a hint on how to resolve these errors\n",
    "\n",
    "run_tests({\n",
    "    test_that(\"the string is correct\", {\n",
    "        expect_true(like_this == \"missing part filled in\", \n",
    "            info = \"The student will see this message if their code doesn't pass the test. This message must mention the specific piece of code that was tested, so the student knows why their code was marked incorrect. Use 'you' since the tests appear in the sidebar and not the notebook. Also, isn't horizontal scrolling in Jupyter Notebooks annoying? Let's try to limit this for students by keeping lines <= 75 characters. :)\"\n",
    "        )\n",
    "    })\n",
    "    # You can have more than one test\n",
    "})"
   ]
  },
  {
   "cell_type": "markdown",
   "metadata": {
    "tags": [
     "type:NotebookTask"
    ]
   },
   "source": [
    "## 3. Title of the third task (<= 55 chars)  (sentence case)"
   ]
  },
  {
   "cell_type": "markdown",
   "metadata": {
    "tags": [
     "@context"
    ]
   },
   "source": [
    "More context / background / story / etc. **If appropriate, begin the `@context` cells for tasks 2 onwards by elaborating on the results of the previous task's output.** This will show up in the student's notebook. It should at most have 800 characters and/or 3 paragraphs.\n",
    "\n",
    "The most common error instructors make in **`@context` cells** is referring to the student or the project. We want project notebooks to appear as a blog post or a data analysis. Bad: *\"In this task, you will...\"* Good: *\"Next, we will...\"* Save the instruction for the `@instructions`, `@hint`, and `@tests` cells, where you can refer the student and the project.\n",
    "\n",
    "End the `@context` cells by leading into the results of this task's `@solution` cell's output (plots/models/etc.)."
   ]
  },
  {
   "cell_type": "markdown",
   "metadata": {
    "tags": [
     "@instructions"
    ]
   },
   "source": [
    "**One** sentence that summarizes the code the student will write in this task.\n",
    "- The specific task instructions go in a bullet point list. One sentence ideally (max 2) per bullet.\n",
    "- Try to map code cell comments to instruction bullets.\n",
    "- Instructions should relate to the redacted sections of sample code.\n",
    "- At most 4 bullets.\n",
    "\n",
    "<hr>\n",
    "\n",
    "You can reference the student (\"you\") and the project in the `@instructions` cells since they appear in the sidebar and not the notebook.\n",
    "\n",
    "Provide more info (if necessary) and include links to external resources under the horizontal ruler. The instructions should at most have 600 characters. Example format for links below.\n",
    "\n",
    "Helpful links:\n",
    "- dplyr's `mutate()` function [documentation](https://www.rdocumentation.org/packages/dplyr/versions/0.5.0/topics/mutate)\n",
    "- Mutate [exercises](https://campus.datacamp.com/courses/introduction-to-the-tidyverse/data-wrangling-1?ex=10) in the Introduction to the Tidyverse course"
   ]
  },
  {
   "cell_type": "markdown",
   "metadata": {
    "tags": [
     "@hint"
    ]
   },
   "source": [
    "Hints are meant for students who are stuck. Since students can't view solutions in projects, clicking the hint button is their last resort. We often recommend including code scaffolding (example below).\n",
    "\n",
    "You can read `\"path_to/my_data.csv\"` into a data frame named `my_data` like this after loading the tidyverse package:\n",
    "\n",
    "```r\n",
    "my_data <- read_csv(\"path_to/my_data.csv\")\n",
    "```\n",
    "\n",
    "You can reference the student (\"you\") and the project in the `@hint` cells since they appear in the sidebar and not the notebook."
   ]
  },
  {
   "cell_type": "code",
   "execution_count": null,
   "metadata": {
    "tags": [
     "@sample_code"
    ]
   },
   "outputs": [],
   "source": [
    "# This is the sample code the student will see\n",
    "\n",
    "# Maximum of 10 lines of code total\n",
    "# The student should have to complete at most 5 lines of code\n",
    "# Try to keep lines of code <= 75 characters to minimize horizontal scrolling\n",
    "\n",
    "# Each @instructions bullet should correspond to a comment in the @sample_code\n",
    "# Instructions should relate to the redacted sections of sample code\n",
    "\n",
    "# Indicate missing parts of code (function calls, arguments, etc.)\n",
    "like_this <- ....\n",
    "\n",
    "# Or when a line or more is required, like this:\n",
    "# .... YOUR CODE FOR TASK 3 ...."
   ]
  },
  {
   "cell_type": "code",
   "execution_count": null,
   "metadata": {
    "tags": [
     "@solution"
    ]
   },
   "outputs": [],
   "source": [
    "# This is the solution code the student WILL NOT see\n",
    "# The @solution needs to EXACTLY mirror the @sample_code but with the blanks filled in\n",
    "# Should take at most 10 seconds to execute on an average laptop\n",
    "\n",
    "# Maximum of 10 lines of code total\n",
    "# The student should have to complete at most 5 lines of code\n",
    "# Try to keep lines of code <= 75 characters to minimize horizontal scrolling\n",
    "\n",
    "# Each @instructions bullet should correspond to a comment in the @sample_code\n",
    "# Instructions should relate to the redacted sections of sample code\n",
    "\n",
    "# Indicate missing parts of code (function calls, arguments, etc.)\n",
    "like_this <- \"missing part filled in\"\n",
    "\n",
    "# Or when a line or more is required, like this:\n",
    "str_length(like_this)"
   ]
  },
  {
   "cell_type": "code",
   "execution_count": null,
   "metadata": {
    "tags": [
     "@tests"
    ]
   },
   "outputs": [],
   "source": [
    "# One or more tests of the student's code\n",
    "# The @solution should pass the tests\n",
    "# The purpose of the tests is to try to catch common errors and\n",
    "# to give the student a hint on how to resolve these errors\n",
    "\n",
    "run_tests({\n",
    "    test_that(\"the string is correct\", {\n",
    "        expect_true(like_this == \"missing part filled in\", \n",
    "            info = \"The student will see this message if their code doesn't pass the test. This message must mention the specific piece of code that was tested, so the student knows why their code was marked incorrect. Use 'you' since the tests appear in the sidebar and not the notebook. Also, isn't horizontal scrolling in Jupyter Notebooks annoying? Let's try to limit this for students by keeping lines <= 75 characters. :)\"\n",
    "        )\n",
    "    })\n",
    "    # You can have more than one test\n",
    "})"
   ]
  },
  {
   "cell_type": "markdown",
   "metadata": {
    "tags": [
     "type:NotebookTask"
    ]
   },
   "source": [
    "## 4. Title of the fourth task (<= 55 chars)  (sentence case)"
   ]
  },
  {
   "cell_type": "markdown",
   "metadata": {
    "tags": [
     "@context"
    ]
   },
   "source": [
    "More context / background / story / etc. **If appropriate, begin the `@context` cells for tasks 2 onwards by elaborating on the results of the previous task's output.** This will show up in the student's notebook. It should at most have 800 characters and/or 3 paragraphs.\n",
    "\n",
    "The most common error instructors make in **`@context` cells** is referring to the student or the project. We want project notebooks to appear as a blog post or a data analysis. Bad: *\"In this task, you will...\"* Good: *\"Next, we will...\"* Save the instruction for the `@instructions`, `@hint`, and `@tests` cells, where you can refer the student and the project.\n",
    "\n",
    "End the `@context` cells by leading into the results of this task's `@solution` cell's output (plots/models/etc.)."
   ]
  },
  {
   "cell_type": "markdown",
   "metadata": {
    "tags": [
     "@instructions"
    ]
   },
   "source": [
    "**One** sentence that summarizes the code the student will write in this task.\n",
    "- The specific task instructions go in a bullet point list. One sentence ideally (max 2) per bullet.\n",
    "- Try to map code cell comments to instruction bullets.\n",
    "- Instructions should relate to the redacted sections of sample code.\n",
    "- At most 4 bullets.\n",
    "\n",
    "<hr>\n",
    "\n",
    "You can reference the student (\"you\") and the project in the `@instructions` cells since they appear in the sidebar and not the notebook.\n",
    "\n",
    "Provide more info (if necessary) and include links to external resources under the horizontal ruler. The instructions should at most have 600 characters. Example format for links below.\n",
    "\n",
    "Helpful links:\n",
    "- dplyr's `mutate()` function [documentation](https://www.rdocumentation.org/packages/dplyr/versions/0.5.0/topics/mutate)\n",
    "- Mutate [exercises](https://campus.datacamp.com/courses/introduction-to-the-tidyverse/data-wrangling-1?ex=10) in the Introduction to the Tidyverse course"
   ]
  },
  {
   "cell_type": "markdown",
   "metadata": {
    "tags": [
     "@hint"
    ]
   },
   "source": [
    "Hints are meant for students who are stuck. Since students can't view solutions in projects, clicking the hint button is their last resort. We often recommend including code scaffolding (example below).\n",
    "\n",
    "You can read `\"path_to/my_data.csv\"` into a data frame named `my_data` like this after loading the tidyverse package:\n",
    "\n",
    "```r\n",
    "my_data <- read_csv(\"path_to/my_data.csv\")\n",
    "```\n",
    "\n",
    "You can reference the student (\"you\") and the project in the `@hint` cells since they appear in the sidebar and not the notebook."
   ]
  },
  {
   "cell_type": "code",
   "execution_count": null,
   "metadata": {
    "tags": [
     "@sample_code"
    ]
   },
   "outputs": [],
   "source": [
    "# This is the sample code the student will see\n",
    "\n",
    "# Maximum of 10 lines of code total\n",
    "# The student should have to complete at most 5 lines of code\n",
    "# Try to keep lines of code <= 75 characters to minimize horizontal scrolling\n",
    "\n",
    "# Each @instructions bullet should correspond to a comment in the @sample_code\n",
    "# Instructions should relate to the redacted sections of sample code\n",
    "\n",
    "# Indicate missing parts of code (function calls, arguments, etc.)\n",
    "like_this <- ....\n",
    "\n",
    "# Or when a line or more is required, like this:\n",
    "# .... YOUR CODE FOR TASK 4 ...."
   ]
  },
  {
   "cell_type": "code",
   "execution_count": null,
   "metadata": {
    "tags": [
     "@solution"
    ]
   },
   "outputs": [],
   "source": [
    "# This is the solution code the student WILL NOT see\n",
    "# The @solution needs to EXACTLY mirror the @sample_code but with the blanks filled in\n",
    "# Should take at most 10 seconds to execute on an average laptop\n",
    "\n",
    "# Maximum of 10 lines of code total\n",
    "# The student should have to complete at most 5 lines of code\n",
    "# Try to keep lines of code <= 75 characters to minimize horizontal scrolling\n",
    "\n",
    "# Each @instructions bullet should correspond to a comment in the @sample_code\n",
    "# Instructions should relate to the redacted sections of sample code\n",
    "\n",
    "# Indicate missing parts of code (function calls, arguments, etc.)\n",
    "like_this <- \"missing part filled in\"\n",
    "\n",
    "# Or when a line or more is required, like this:\n",
    "str_length(like_this)"
   ]
  },
  {
   "cell_type": "code",
   "execution_count": null,
   "metadata": {
    "tags": [
     "@tests"
    ]
   },
   "outputs": [],
   "source": [
    "# One or more tests of the student's code\n",
    "# The @solution should pass the tests\n",
    "# The purpose of the tests is to try to catch common errors and\n",
    "# to give the student a hint on how to resolve these errors\n",
    "\n",
    "run_tests({\n",
    "    test_that(\"the string is correct\", {\n",
    "        expect_true(like_this == \"missing part filled in\", \n",
    "            info = \"The student will see this message if their code doesn't pass the test. This message must mention the specific piece of code that was tested, so the student knows why their code was marked incorrect. Use 'you' since the tests appear in the sidebar and not the notebook. Also, isn't horizontal scrolling in Jupyter Notebooks annoying? Let's try to limit this for students by keeping lines <= 75 characters. :)\"\n",
    "        )\n",
    "    })\n",
    "    # You can have more than one test\n",
    "})"
   ]
  },
  {
   "cell_type": "markdown",
   "metadata": {
    "tags": [
     "type:NotebookTask"
    ]
   },
   "source": [
    "## 5. Title of the fifth task (<= 55 chars)  (sentence case)"
   ]
  },
  {
   "cell_type": "markdown",
   "metadata": {
    "tags": [
     "@context"
    ]
   },
   "source": [
    "More context / background / story / etc. **If appropriate, begin the `@context` cells for tasks 2 onwards by elaborating on the results of the previous task's output.** This will show up in the student's notebook. It should at most have 800 characters and/or 3 paragraphs.\n",
    "\n",
    "The most common error instructors make in **`@context` cells** is referring to the student or the project. We want project notebooks to appear as a blog post or a data analysis. Bad: *\"In this task, you will...\"* Good: *\"Next, we will...\"* Save the instruction for the `@instructions`, `@hint`, and `@tests` cells, where you can refer the student and the project.\n",
    "\n",
    "End the `@context` cells by leading into the results of this task's `@solution` cell's output (plots/models/etc.)."
   ]
  },
  {
   "cell_type": "markdown",
   "metadata": {
    "tags": [
     "@instructions"
    ]
   },
   "source": [
    "**One** sentence that summarizes the code the student will write in this task.\n",
    "- The specific task instructions go in a bullet point list. One sentence ideally (max 2) per bullet.\n",
    "- Try to map code cell comments to instruction bullets.\n",
    "- Instructions should relate to the redacted sections of sample code.\n",
    "- At most 4 bullets.\n",
    "\n",
    "<hr>\n",
    "\n",
    "You can reference the student (\"you\") and the project in the `@instructions` cells since they appear in the sidebar and not the notebook.\n",
    "\n",
    "Provide more info (if necessary) and include links to external resources under the horizontal ruler. The instructions should at most have 600 characters. Example format for links below.\n",
    "\n",
    "Helpful links:\n",
    "- dplyr's `mutate()` function [documentation](https://www.rdocumentation.org/packages/dplyr/versions/0.5.0/topics/mutate)\n",
    "- Mutate [exercises](https://campus.datacamp.com/courses/introduction-to-the-tidyverse/data-wrangling-1?ex=10) in the Introduction to the Tidyverse course"
   ]
  },
  {
   "cell_type": "markdown",
   "metadata": {
    "tags": [
     "@hint"
    ]
   },
   "source": [
    "Hints are meant for students who are stuck. Since students can't view solutions in projects, clicking the hint button is their last resort. We often recommend including code scaffolding (example below).\n",
    "\n",
    "You can read `\"path_to/my_data.csv\"` into a data frame named `my_data` like this after loading the tidyverse package:\n",
    "\n",
    "```r\n",
    "my_data <- read_csv(\"path_to/my_data.csv\")\n",
    "```\n",
    "\n",
    "You can reference the student (\"you\") and the project in the `@hint` cells since they appear in the sidebar and not the notebook."
   ]
  },
  {
   "cell_type": "code",
   "execution_count": null,
   "metadata": {
    "tags": [
     "@sample_code"
    ]
   },
   "outputs": [],
   "source": [
    "# This is the sample code the student will see\n",
    "\n",
    "# Maximum of 10 lines of code total\n",
    "# The student should have to complete at most 5 lines of code\n",
    "# Try to keep lines of code <= 75 characters to minimize horizontal scrolling\n",
    "\n",
    "# Each @instructions bullet should correspond to a comment in the @sample_code\n",
    "# Instructions should relate to the redacted sections of sample code\n",
    "\n",
    "# Indicate missing parts of code (function calls, arguments, etc.)\n",
    "like_this <- ....\n",
    "\n",
    "# Or when a line or more is required, like this:\n",
    "# .... YOUR CODE FOR TASK 5 ...."
   ]
  },
  {
   "cell_type": "code",
   "execution_count": null,
   "metadata": {
    "tags": [
     "@solution"
    ]
   },
   "outputs": [],
   "source": [
    "# This is the solution code the student WILL NOT see\n",
    "# The @solution needs to EXACTLY mirror the @sample_code but with the blanks filled in\n",
    "# Should take at most 10 seconds to execute on an average laptop\n",
    "\n",
    "# Maximum of 10 lines of code total\n",
    "# The student should have to complete at most 5 lines of code\n",
    "# Try to keep lines of code <= 75 characters to minimize horizontal scrolling\n",
    "\n",
    "# Each @instructions bullet should correspond to a comment in the @sample_code\n",
    "# Instructions should relate to the redacted sections of sample code\n",
    "\n",
    "# Indicate missing parts of code (function calls, arguments, etc.)\n",
    "like_this <- \"missing part filled in\"\n",
    "\n",
    "# Or when a line or more is required, like this:\n",
    "str_length(like_this)"
   ]
  },
  {
   "cell_type": "code",
   "execution_count": null,
   "metadata": {
    "tags": [
     "@tests"
    ]
   },
   "outputs": [],
   "source": [
    "# One or more tests of the student's code\n",
    "# The @solution should pass the tests\n",
    "# The purpose of the tests is to try to catch common errors and\n",
    "# to give the student a hint on how to resolve these errors\n",
    "\n",
    "run_tests({\n",
    "    test_that(\"the string is correct\", {\n",
    "        expect_true(like_this == \"missing part filled in\", \n",
    "            info = \"The student will see this message if their code doesn't pass the test. This message must mention the specific piece of code that was tested, so the student knows why their code was marked incorrect. Use 'you' since the tests appear in the sidebar and not the notebook. Also, isn't horizontal scrolling in Jupyter Notebooks annoying? Let's try to limit this for students by keeping lines <= 75 characters. :)\"\n",
    "        )\n",
    "    })\n",
    "    # You can have more than one test\n",
    "})"
   ]
  },
  {
   "cell_type": "markdown",
   "metadata": {
    "tags": [
     "type:NotebookTask"
    ]
   },
   "source": [
    "## 6. Title of the sixth task (<= 55 chars)  (sentence case)"
   ]
  },
  {
   "cell_type": "markdown",
   "metadata": {
    "tags": [
     "@context"
    ]
   },
   "source": [
    "More context / background / story / etc. **If appropriate, begin the `@context` cells for tasks 2 onwards by elaborating on the results of the previous task's output.** This will show up in the student's notebook. It should at most have 800 characters and/or 3 paragraphs.\n",
    "\n",
    "The most common error instructors make in **`@context` cells** is referring to the student or the project. We want project notebooks to appear as a blog post or a data analysis. Bad: *\"In this task, you will...\"* Good: *\"Next, we will...\"* Save the instruction for the `@instructions`, `@hint`, and `@tests` cells, where you can refer the student and the project.\n",
    "\n",
    "End the `@context` cells by leading into the results of this task's `@solution` cell's output (plots/models/etc.)."
   ]
  },
  {
   "cell_type": "markdown",
   "metadata": {
    "tags": [
     "@instructions"
    ]
   },
   "source": [
    "**One** sentence that summarizes the code the student will write in this task.\n",
    "- The specific task instructions go in a bullet point list. One sentence ideally (max 2) per bullet.\n",
    "- Try to map code cell comments to instruction bullets.\n",
    "- Instructions should relate to the redacted sections of sample code.\n",
    "- At most 4 bullets.\n",
    "\n",
    "<hr>\n",
    "\n",
    "You can reference the student (\"you\") and the project in the `@instructions` cells since they appear in the sidebar and not the notebook.\n",
    "\n",
    "Provide more info (if necessary) and include links to external resources under the horizontal ruler. The instructions should at most have 600 characters. Example format for links below.\n",
    "\n",
    "Helpful links:\n",
    "- dplyr's `mutate()` function [documentation](https://www.rdocumentation.org/packages/dplyr/versions/0.5.0/topics/mutate)\n",
    "- Mutate [exercises](https://campus.datacamp.com/courses/introduction-to-the-tidyverse/data-wrangling-1?ex=10) in the Introduction to the Tidyverse course"
   ]
  },
  {
   "cell_type": "markdown",
   "metadata": {
    "tags": [
     "@hint"
    ]
   },
   "source": [
    "Hints are meant for students who are stuck. Since students can't view solutions in projects, clicking the hint button is their last resort. We often recommend including code scaffolding (example below).\n",
    "\n",
    "You can read `\"path_to/my_data.csv\"` into a data frame named `my_data` like this after loading the tidyverse package:\n",
    "\n",
    "```r\n",
    "my_data <- read_csv(\"path_to/my_data.csv\")\n",
    "```\n",
    "\n",
    "You can reference the student (\"you\") and the project in the `@hint` cells since they appear in the sidebar and not the notebook."
   ]
  },
  {
   "cell_type": "code",
   "execution_count": null,
   "metadata": {
    "tags": [
     "@sample_code"
    ]
   },
   "outputs": [],
   "source": [
    "# This is the sample code the student will see\n",
    "\n",
    "# Maximum of 10 lines of code total\n",
    "# The student should have to complete at most 5 lines of code\n",
    "# Try to keep lines of code <= 75 characters to minimize horizontal scrolling\n",
    "\n",
    "# Each @instructions bullet should correspond to a comment in the @sample_code\n",
    "# Instructions should relate to the redacted sections of sample code\n",
    "\n",
    "# Indicate missing parts of code (function calls, arguments, etc.)\n",
    "like_this <- ....\n",
    "\n",
    "# Or when a line or more is required, like this:\n",
    "# .... YOUR CODE FOR TASK 6 ...."
   ]
  },
  {
   "cell_type": "code",
   "execution_count": null,
   "metadata": {
    "tags": [
     "@solution"
    ]
   },
   "outputs": [],
   "source": [
    "# This is the solution code the student WILL NOT see\n",
    "# The @solution needs to EXACTLY mirror the @sample_code but with the blanks filled in\n",
    "# Should take at most 10 seconds to execute on an average laptop\n",
    "\n",
    "# Maximum of 10 lines of code total\n",
    "# The student should have to complete at most 5 lines of code\n",
    "# Try to keep lines of code <= 75 characters to minimize horizontal scrolling\n",
    "\n",
    "# Each @instructions bullet should correspond to a comment in the @sample_code\n",
    "# Instructions should relate to the redacted sections of sample code\n",
    "\n",
    "# Indicate missing parts of code (function calls, arguments, etc.)\n",
    "like_this <- \"missing part filled in\"\n",
    "\n",
    "# Or when a line or more is required, like this:\n",
    "str_length(like_this)"
   ]
  },
  {
   "cell_type": "code",
   "execution_count": null,
   "metadata": {
    "tags": [
     "@tests"
    ]
   },
   "outputs": [],
   "source": [
    "# One or more tests of the student's code\n",
    "# The @solution should pass the tests\n",
    "# The purpose of the tests is to try to catch common errors and\n",
    "# to give the student a hint on how to resolve these errors\n",
    "\n",
    "run_tests({\n",
    "    test_that(\"the string is correct\", {\n",
    "        expect_true(like_this == \"missing part filled in\", \n",
    "            info = \"The student will see this message if their code doesn't pass the test. This message must mention the specific piece of code that was tested, so the student knows why their code was marked incorrect. Use 'you' since the tests appear in the sidebar and not the notebook. Also, isn't horizontal scrolling in Jupyter Notebooks annoying? Let's try to limit this for students by keeping lines <= 75 characters. :)\"\n",
    "        )\n",
    "    })\n",
    "    # You can have more than one test\n",
    "})"
   ]
  },
  {
   "cell_type": "markdown",
   "metadata": {
    "tags": [
     "type:NotebookTask"
    ]
   },
   "source": [
    "## 7. Title of the seventh task (<= 55 chars)  (sentence case)"
   ]
  },
  {
   "cell_type": "markdown",
   "metadata": {
    "tags": [
     "@context"
    ]
   },
   "source": [
    "More context / background / story / etc. **If appropriate, begin the `@context` cells for tasks 2 onwards by elaborating on the results of the previous task's output.** This will show up in the student's notebook. It should at most have 800 characters and/or 3 paragraphs.\n",
    "\n",
    "The most common error instructors make in **`@context` cells** is referring to the student or the project. We want project notebooks to appear as a blog post or a data analysis. Bad: *\"In this task, you will...\"* Good: *\"Next, we will...\"* Save the instruction for the `@instructions`, `@hint`, and `@tests` cells, where you can refer the student and the project.\n",
    "\n",
    "End the `@context` cells by leading into the results of this task's `@solution` cell's output (plots/models/etc.)."
   ]
  },
  {
   "cell_type": "markdown",
   "metadata": {
    "tags": [
     "@instructions"
    ]
   },
   "source": [
    "**One** sentence that summarizes the code the student will write in this task.\n",
    "- The specific task instructions go in a bullet point list. One sentence ideally (max 2) per bullet.\n",
    "- Try to map code cell comments to instruction bullets.\n",
    "- Instructions should relate to the redacted sections of sample code.\n",
    "- At most 4 bullets.\n",
    "\n",
    "<hr>\n",
    "\n",
    "You can reference the student (\"you\") and the project in the `@instructions` cells since they appear in the sidebar and not the notebook.\n",
    "\n",
    "Provide more info (if necessary) and include links to external resources under the horizontal ruler. The instructions should at most have 600 characters. Example format for links below.\n",
    "\n",
    "Helpful links:\n",
    "- dplyr's `mutate()` function [documentation](https://www.rdocumentation.org/packages/dplyr/versions/0.5.0/topics/mutate)\n",
    "- Mutate [exercises](https://campus.datacamp.com/courses/introduction-to-the-tidyverse/data-wrangling-1?ex=10) in the Introduction to the Tidyverse course"
   ]
  },
  {
   "cell_type": "markdown",
   "metadata": {
    "tags": [
     "@hint"
    ]
   },
   "source": [
    "Hints are meant for students who are stuck. Since students can't view solutions in projects, clicking the hint button is their last resort. We often recommend including code scaffolding (example below).\n",
    "\n",
    "You can read `\"path_to/my_data.csv\"` into a data frame named `my_data` like this after loading the tidyverse package:\n",
    "\n",
    "```r\n",
    "my_data <- read_csv(\"path_to/my_data.csv\")\n",
    "```\n",
    "\n",
    "You can reference the student (\"you\") and the project in the `@hint` cells since they appear in the sidebar and not the notebook."
   ]
  },
  {
   "cell_type": "code",
   "execution_count": null,
   "metadata": {
    "tags": [
     "@sample_code"
    ]
   },
   "outputs": [],
   "source": [
    "# This is the sample code the student will see\n",
    "\n",
    "# Maximum of 10 lines of code total\n",
    "# The student should have to complete at most 5 lines of code\n",
    "# Try to keep lines of code <= 75 characters to minimize horizontal scrolling\n",
    "\n",
    "# Each @instructions bullet should correspond to a comment in the @sample_code\n",
    "# Instructions should relate to the redacted sections of sample code\n",
    "\n",
    "# Indicate missing parts of code (function calls, arguments, etc.)\n",
    "like_this <- ....\n",
    "\n",
    "# Or when a line or more is required, like this:\n",
    "# .... YOUR CODE FOR TASK 7 ...."
   ]
  },
  {
   "cell_type": "code",
   "execution_count": null,
   "metadata": {
    "tags": [
     "@solution"
    ]
   },
   "outputs": [],
   "source": [
    "# This is the solution code the student WILL NOT see\n",
    "# The @solution needs to EXACTLY mirror the @sample_code but with the blanks filled in\n",
    "# Should take at most 10 seconds to execute on an average laptop\n",
    "\n",
    "# Maximum of 10 lines of code total\n",
    "# The student should have to complete at most 5 lines of code\n",
    "# Try to keep lines of code <= 75 characters to minimize horizontal scrolling\n",
    "\n",
    "# Each @instructions bullet should correspond to a comment in the @sample_code\n",
    "# Instructions should relate to the redacted sections of sample code\n",
    "\n",
    "# Indicate missing parts of code (function calls, arguments, etc.)\n",
    "like_this <- \"missing part filled in\"\n",
    "\n",
    "# Or when a line or more is required, like this:\n",
    "str_length(like_this)"
   ]
  },
  {
   "cell_type": "code",
   "execution_count": null,
   "metadata": {
    "tags": [
     "@tests"
    ]
   },
   "outputs": [],
   "source": [
    "# One or more tests of the student's code\n",
    "# The @solution should pass the tests\n",
    "# The purpose of the tests is to try to catch common errors and\n",
    "# to give the student a hint on how to resolve these errors\n",
    "\n",
    "run_tests({\n",
    "    test_that(\"the string is correct\", {\n",
    "        expect_true(like_this == \"missing part filled in\", \n",
    "            info = \"The student will see this message if their code doesn't pass the test. This message must mention the specific piece of code that was tested, so the student knows why their code was marked incorrect. Use 'you' since the tests appear in the sidebar and not the notebook. Also, isn't horizontal scrolling in Jupyter Notebooks annoying? Let's try to limit this for students by keeping lines <= 75 characters. :)\"\n",
    "        )\n",
    "    })\n",
    "    # You can have more than one test\n",
    "})"
   ]
  },
  {
   "cell_type": "markdown",
   "metadata": {
    "tags": [
     "type:NotebookTask"
    ]
   },
   "source": [
    "## 8. Title of the eighth task (<= 55 chars)  (sentence case)"
   ]
  },
  {
   "cell_type": "markdown",
   "metadata": {
    "tags": [
     "@context"
    ]
   },
   "source": [
    "More context / background / story / etc. **If appropriate, begin the `@context` cells for tasks 2 onwards by elaborating on the results of the previous task's output.** This will show up in the student's notebook. It should at most have 800 characters and/or 3 paragraphs.\n",
    "\n",
    "The most common error instructors make in **`@context` cells** is referring to the student or the project. We want project notebooks to appear as a blog post or a data analysis. Bad: *\"In this task, you will...\"* Good: *\"Next, we will...\"* Save the instruction for the `@instructions`, `@hint`, and `@tests` cells, where you can refer the student and the project.\n",
    "\n",
    "End the `@context` cells by leading into the results of this task's `@solution` cell's output (plots/models/etc.)."
   ]
  },
  {
   "cell_type": "markdown",
   "metadata": {
    "tags": [
     "@instructions"
    ]
   },
   "source": [
    "**One** sentence that summarizes the code the student will write in this task.\n",
    "- The specific task instructions go in a bullet point list. One sentence ideally (max 2) per bullet.\n",
    "- Try to map code cell comments to instruction bullets.\n",
    "- Instructions should relate to the redacted sections of sample code.\n",
    "- At most 4 bullets.\n",
    "\n",
    "<hr>\n",
    "\n",
    "You can reference the student (\"you\") and the project in the `@instructions` cells since they appear in the sidebar and not the notebook.\n",
    "\n",
    "Provide more info (if necessary) and include links to external resources under the horizontal ruler. The instructions should at most have 600 characters. Example format for links below.\n",
    "\n",
    "Helpful links:\n",
    "- dplyr's `mutate()` function [documentation](https://www.rdocumentation.org/packages/dplyr/versions/0.5.0/topics/mutate)\n",
    "- Mutate [exercises](https://campus.datacamp.com/courses/introduction-to-the-tidyverse/data-wrangling-1?ex=10) in the Introduction to the Tidyverse course"
   ]
  },
  {
   "cell_type": "markdown",
   "metadata": {
    "tags": [
     "@hint"
    ]
   },
   "source": [
    "Hints are meant for students who are stuck. Since students can't view solutions in projects, clicking the hint button is their last resort. We often recommend including code scaffolding (example below).\n",
    "\n",
    "You can read `\"path_to/my_data.csv\"` into a data frame named `my_data` like this after loading the tidyverse package:\n",
    "\n",
    "```r\n",
    "my_data <- read_csv(\"path_to/my_data.csv\")\n",
    "```\n",
    "\n",
    "You can reference the student (\"you\") and the project in the `@hint` cells since they appear in the sidebar and not the notebook."
   ]
  },
  {
   "cell_type": "code",
   "execution_count": null,
   "metadata": {
    "tags": [
     "@sample_code"
    ]
   },
   "outputs": [],
   "source": [
    "# This is the sample code the student will see\n",
    "\n",
    "# Maximum of 10 lines of code total\n",
    "# The student should have to complete at most 5 lines of code\n",
    "# Try to keep lines of code <= 75 characters to minimize horizontal scrolling\n",
    "\n",
    "# Each @instructions bullet should correspond to a comment in the @sample_code\n",
    "# Instructions should relate to the redacted sections of sample code\n",
    "\n",
    "# Indicate missing parts of code (function calls, arguments, etc.)\n",
    "like_this <- ....\n",
    "\n",
    "# Or when a line or more is required, like this:\n",
    "# .... YOUR CODE FOR TASK 8 ...."
   ]
  },
  {
   "cell_type": "code",
   "execution_count": null,
   "metadata": {
    "tags": [
     "@solution"
    ]
   },
   "outputs": [],
   "source": [
    "# This is the solution code the student WILL NOT see\n",
    "# The @solution needs to EXACTLY mirror the @sample_code but with the blanks filled in\n",
    "# Should take at most 10 seconds to execute on an average laptop\n",
    "\n",
    "# Maximum of 10 lines of code total\n",
    "# The student should have to complete at most 5 lines of code\n",
    "# Try to keep lines of code <= 75 characters to minimize horizontal scrolling\n",
    "\n",
    "# Each @instructions bullet should correspond to a comment in the @sample_code\n",
    "# Instructions should relate to the redacted sections of sample code\n",
    "\n",
    "# Indicate missing parts of code (function calls, arguments, etc.)\n",
    "like_this <- \"missing part filled in\"\n",
    "\n",
    "# Or when a line or more is required, like this:\n",
    "str_length(like_this)"
   ]
  },
  {
   "cell_type": "code",
   "execution_count": 14,
   "metadata": {
    "tags": [
     "@tests"
    ]
   },
   "outputs": [
    {
     "data": {
      "application/json": "{\"success\":true,\"summary\":{\"tests\":1,\"failures\":0,\"errors\":0},\"tests\":[{\"name\":\"the string is correct\",\"message\":\"success\",\"success\":true,\"outcome\":\"success\"}]}"
     },
     "metadata": {},
     "output_type": "display_data"
    },
    {
     "data": {
      "application/json": "{\"success\":true,\"summary\":{\"tests\":1,\"failures\":0,\"errors\":0},\"tests\":[{\"name\":\"the string is correct\",\"message\":\"success\",\"success\":true,\"outcome\":\"success\"}]}"
     },
     "metadata": {},
     "output_type": "display_data"
    },
    {
     "data": {
      "text/plain": [
       "1/1 tests passed"
      ]
     },
     "metadata": {},
     "output_type": "display_data"
    }
   ],
   "source": [
    "# One or more tests of the student's code\n",
    "# The @solution should pass the tests\n",
    "# The purpose of the tests is to try to catch common errors and\n",
    "# to give the student a hint on how to resolve these errors\n",
    "\n",
    "run_tests({\n",
    "    test_that(\"the string is correct\", {\n",
    "        expect_true(like_this == \"missing part filled in\", \n",
    "            info = \"The student will see this message if their code doesn't pass the test. This message must mention the specific piece of code that was tested, so the student knows why their code was marked incorrect. Use 'you' since the tests appear in the sidebar and not the notebook. Also, isn't horizontal scrolling in Jupyter Notebooks annoying? Let's try to limit this for students by keeping lines <= 75 characters. :)\"\n",
    "        )\n",
    "    })\n",
    "    # You can have more than one test\n",
    "})"
   ]
  },
  {
   "cell_type": "markdown",
   "metadata": {},
   "source": [
    "*The recommended number of tasks in a DataCamp project is between 8 and 10, so feel free to add more if necessary. You can't have more than 12 tasks.*\n",
    "\n",
    "*We need a full suite of tagged cells (i.e. @context, @instructions, etc.) for all tasks with the exact correct tagging, otherwise, the project won't build and won't show up on datacamp.com. To ensure this, copy and paste the the cells above to make more tasks as done in [this screenshare](https://www.useloom.com/share/fe2b7da288454cd18f8a7a606d32eecf).*"
   ]
  }
 ],
 "metadata": {
  "celltoolbar": "Tags",
  "kernelspec": {
   "display_name": "R",
   "language": "R",
   "name": "ir"
  },
  "language_info": {
   "codemirror_mode": "r",
   "file_extension": ".r",
   "mimetype": "text/x-r-source",
   "name": "R",
   "pygments_lexer": "r",
   "version": "3.5.1"
  }
 },
 "nbformat": 4,
 "nbformat_minor": 2
}
